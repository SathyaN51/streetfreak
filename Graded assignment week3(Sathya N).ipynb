{
    "cells": [
        {
            "cell_type": "markdown",
            "metadata": {
                "collapsed": true
            },
            "source": "# My Jupyter Notebook on IBM Watson Studio"
        },
        {
            "cell_type": "markdown",
            "metadata": {},
            "source": "__Sathya__<br>\nData Scientist"
        },
        {
            "cell_type": "markdown",
            "metadata": {},
            "source": "_I am into Data Science because I find data fascinating and love to get the insights of data from various fields just to get the knowledge and then go in depth to analyse how I can help a venture or business out._"
        },
        {
            "cell_type": "markdown",
            "metadata": {},
            "source": "## The code below adds two odd numbers"
        },
        {
            "cell_type": "code",
            "execution_count": 12,
            "metadata": {},
            "outputs": [
                {
                    "data": {
                        "text/plain": "10"
                    },
                    "execution_count": 12,
                    "metadata": {},
                    "output_type": "execute_result"
                }
            ],
            "source": "3+7"
        },
        {
            "cell_type": "markdown",
            "metadata": {},
            "source": "**My dream Bikes**<br>\n- Jawa 42 2.1\n- Ducati Panigale v6\n- Triumph Street Triple"
        },
        {
            "cell_type": "markdown",
            "metadata": {},
            "source": "**My dream Cars**<br>\n1. Hyundai i20\n2. Mustang GT\n3. Maruti Omni"
        },
        {
            "cell_type": "markdown",
            "metadata": {},
            "source": "Displaying a black rectangle: &#9644;"
        },
        {
            "cell_type": "markdown",
            "metadata": {},
            "source": "***"
        },
        {
            "cell_type": "code",
            "execution_count": null,
            "metadata": {},
            "outputs": [],
            "source": ""
        }
    ],
    "metadata": {
        "kernelspec": {
            "display_name": "Python 3.9",
            "language": "python",
            "name": "python3"
        },
        "language_info": {
            "codemirror_mode": {
                "name": "ipython",
                "version": 3
            },
            "file_extension": ".py",
            "mimetype": "text/x-python",
            "name": "python",
            "nbconvert_exporter": "python",
            "pygments_lexer": "ipython3",
            "version": "3.9.12"
        }
    },
    "nbformat": 4,
    "nbformat_minor": 1
}